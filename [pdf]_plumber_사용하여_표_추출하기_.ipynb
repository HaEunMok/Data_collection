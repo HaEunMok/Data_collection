{
  "nbformat": 4,
  "nbformat_minor": 0,
  "metadata": {
    "colab": {
      "provenance": [],
      "authorship_tag": "ABX9TyOwx94C+oMySCXYzVX0mxaS",
      "include_colab_link": true
    },
    "kernelspec": {
      "name": "python3",
      "display_name": "Python 3"
    },
    "language_info": {
      "name": "python"
    }
  },
  "cells": [
    {
      "cell_type": "markdown",
      "metadata": {
        "id": "view-in-github",
        "colab_type": "text"
      },
      "source": [
        "<a href=\"https://colab.research.google.com/github/HaEunMok/Data_collection/blob/main/%5Bpdf%5D_plumber_%EC%82%AC%EC%9A%A9%ED%95%98%EC%97%AC_%ED%91%9C_%EC%B6%94%EC%B6%9C%ED%95%98%EA%B8%B0_.ipynb\" target=\"_parent\"><img src=\"https://colab.research.google.com/assets/colab-badge.svg\" alt=\"Open In Colab\"/></a>"
      ]
    },
    {
      "cell_type": "markdown",
      "source": [
        "# plumber 사용\n",
        "내용 누락\n",
        "https://github.com/jsvine/pdfplumber/issues/79"
      ],
      "metadata": {
        "id": "dAEesnpklL6o"
      }
    },
    {
      "cell_type": "code",
      "execution_count": null,
      "metadata": {
        "id": "pVUDqoU3k-PL"
      },
      "outputs": [],
      "source": [
        "! pip install pdfplumber"
      ]
    },
    {
      "cell_type": "code",
      "source": [
        "import pdfplumber\n",
        "import pandas as pd\n",
        "import numpy as np\n",
        "pdf_file=''\n",
        "pdf = pdfplumber.open(pdf_file)\n",
        "p0 = pdf.pages[19]\n",
        "table2df = lambda table: pd.DataFrame(table[1:], columns=table[0])\n",
        "tables = table2df(p0.extract_table())\n",
        "tables"
      ],
      "metadata": {
        "id": "CK-kkIOklDHS"
      },
      "execution_count": null,
      "outputs": []
    }
  ]
}