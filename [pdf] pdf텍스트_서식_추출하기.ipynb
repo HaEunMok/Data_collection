{
  "nbformat": 4,
  "nbformat_minor": 0,
  "metadata": {
    "colab": {
      "provenance": [],
      "mount_file_id": "1bVqoqy4vloTyvALdMKbXoj6KyeGbFOh0",
      "authorship_tag": "ABX9TyPhWnsqRxm7xTAbkenKlJqQ",
      "include_colab_link": true
    },
    "kernelspec": {
      "name": "python3",
      "display_name": "Python 3"
    },
    "language_info": {
      "name": "python"
    }
  },
  "cells": [
    {
      "cell_type": "markdown",
      "metadata": {
        "id": "view-in-github",
        "colab_type": "text"
      },
      "source": [
        "<a href=\"https://colab.research.google.com/github/HaEunMok/Data_collection/blob/main/%5Bpdf%5D%20pdf%ED%85%8D%EC%8A%A4%ED%8A%B8_%EC%84%9C%EC%8B%9D_%EC%B6%94%EC%B6%9C%ED%95%98%EA%B8%B0.ipynb\" target=\"_parent\"><img src=\"https://colab.research.google.com/assets/colab-badge.svg\" alt=\"Open In Colab\"/></a>"
      ]
    },
    {
      "cell_type": "code",
      "source": [
        "! pip install pdfminer.six"
      ],
      "metadata": {
        "colab": {
          "base_uri": "https://localhost:8080/"
        },
        "id": "jkx5rm_gg7T1",
        "outputId": "5bbc344e-3dba-4e94-b32d-ed872afaa2e1"
      },
      "execution_count": 1,
      "outputs": [
        {
          "output_type": "stream",
          "name": "stdout",
          "text": [
            "Collecting pdfminer.six\n",
            "  Downloading pdfminer.six-20231228-py3-none-any.whl (5.6 MB)\n",
            "\u001b[2K     \u001b[90m━━━━━━━━━━━━━━━━━━━━━━━━━━━━━━━━━━━━━━━━\u001b[0m \u001b[32m5.6/5.6 MB\u001b[0m \u001b[31m16.3 MB/s\u001b[0m eta \u001b[36m0:00:00\u001b[0m\n",
            "\u001b[?25hRequirement already satisfied: charset-normalizer>=2.0.0 in /usr/local/lib/python3.10/dist-packages (from pdfminer.six) (3.3.2)\n",
            "Requirement already satisfied: cryptography>=36.0.0 in /usr/local/lib/python3.10/dist-packages (from pdfminer.six) (41.0.7)\n",
            "Requirement already satisfied: cffi>=1.12 in /usr/local/lib/python3.10/dist-packages (from cryptography>=36.0.0->pdfminer.six) (1.16.0)\n",
            "Requirement already satisfied: pycparser in /usr/local/lib/python3.10/dist-packages (from cffi>=1.12->cryptography>=36.0.0->pdfminer.six) (2.21)\n",
            "Installing collected packages: pdfminer.six\n",
            "Successfully installed pdfminer.six-20231228\n"
          ]
        }
      ]
    },
    {
      "cell_type": "code",
      "execution_count": 2,
      "metadata": {
        "id": "FWnO0sVAgZUC"
      },
      "outputs": [],
      "source": [
        "from pdfminer.high_level import extract_text\n",
        "from pdfminer.pdfinterp import PDFResourceManager, PDFPageInterpreter\n",
        "from pdfminer.pdfpage import PDFPage\n",
        "from pdfminer.layout import LTTextContainer, LTChar\n"
      ]
    },
    {
      "cell_type": "markdown",
      "source": [
        "# 텍스트 추출\n",
        "- 한글자씩 추출되는 문제"
      ],
      "metadata": {
        "id": "XeJuYvt9mH7x"
      }
    },
    {
      "cell_type": "code",
      "source": [
        "from pdfminer.high_level import extract_pages\n",
        "from pdfminer.layout import LTTextContainer, LTChar\n",
        "from pdfminer.pdfpage import PDFPage\n",
        "\n",
        "def extract_text_and_styles(file_path):\n",
        "    with open(file_path, 'rb') as file:\n",
        "        for page_layout in extract_pages(file):\n",
        "            for element in page_layout:\n",
        "                if isinstance(element, LTTextContainer):\n",
        "                    for text_line in element:\n",
        "                        for character in text_line:\n",
        "                            if isinstance(character, LTChar):\n",
        "                                font_name = character.fontname\n",
        "                                font_size = character.size\n",
        "                                text = character.get_text()\n",
        "                                print(f\"텍스트: {text}, 글꼴: {font_name}, 크기: {font_size}\")\n",
        "                                # 여기에 추출된 정보를 저장하는 코드를 추가하세요"
      ],
      "metadata": {
        "id": "SZUp-AYRvLzP"
      },
      "execution_count": 3,
      "outputs": []
    },
    {
      "cell_type": "code",
      "source": [
        "# PDF 파일 경로 지정하여 정보 추출 함수 호출\n",
        "pdf_path = ''\n",
        "extract_text_and_styles(pdf_path)"
      ],
      "metadata": {
        "colab": {
          "base_uri": "https://localhost:8080/",
          "height": 380
        },
        "id": "X0eIsgbuvOJh",
        "outputId": "db15a5aa-040c-48df-ee92-a040ccef2517"
      },
      "execution_count": 4,
      "outputs": [
        {
          "output_type": "error",
          "ename": "FileNotFoundError",
          "evalue": "[Errno 2] No such file or directory: ''",
          "traceback": [
            "\u001b[0;31m---------------------------------------------------------------------------\u001b[0m",
            "\u001b[0;31mFileNotFoundError\u001b[0m                         Traceback (most recent call last)",
            "\u001b[0;32m<ipython-input-4-ec5ebc2b8499>\u001b[0m in \u001b[0;36m<cell line: 3>\u001b[0;34m()\u001b[0m\n\u001b[1;32m      1\u001b[0m \u001b[0;31m# PDF 파일 경로 지정하여 정보 추출 함수 호출\u001b[0m\u001b[0;34m\u001b[0m\u001b[0;34m\u001b[0m\u001b[0m\n\u001b[1;32m      2\u001b[0m \u001b[0mpdf_path\u001b[0m \u001b[0;34m=\u001b[0m \u001b[0;34m''\u001b[0m\u001b[0;34m\u001b[0m\u001b[0;34m\u001b[0m\u001b[0m\n\u001b[0;32m----> 3\u001b[0;31m \u001b[0mextract_text_and_styles\u001b[0m\u001b[0;34m(\u001b[0m\u001b[0mpdf_path\u001b[0m\u001b[0;34m)\u001b[0m\u001b[0;34m\u001b[0m\u001b[0;34m\u001b[0m\u001b[0m\n\u001b[0m",
            "\u001b[0;32m<ipython-input-3-c13945097746>\u001b[0m in \u001b[0;36mextract_text_and_styles\u001b[0;34m(file_path)\u001b[0m\n\u001b[1;32m      4\u001b[0m \u001b[0;34m\u001b[0m\u001b[0m\n\u001b[1;32m      5\u001b[0m \u001b[0;32mdef\u001b[0m \u001b[0mextract_text_and_styles\u001b[0m\u001b[0;34m(\u001b[0m\u001b[0mfile_path\u001b[0m\u001b[0;34m)\u001b[0m\u001b[0;34m:\u001b[0m\u001b[0;34m\u001b[0m\u001b[0;34m\u001b[0m\u001b[0m\n\u001b[0;32m----> 6\u001b[0;31m     \u001b[0;32mwith\u001b[0m \u001b[0mopen\u001b[0m\u001b[0;34m(\u001b[0m\u001b[0mfile_path\u001b[0m\u001b[0;34m,\u001b[0m \u001b[0;34m'rb'\u001b[0m\u001b[0;34m)\u001b[0m \u001b[0;32mas\u001b[0m \u001b[0mfile\u001b[0m\u001b[0;34m:\u001b[0m\u001b[0;34m\u001b[0m\u001b[0;34m\u001b[0m\u001b[0m\n\u001b[0m\u001b[1;32m      7\u001b[0m         \u001b[0;32mfor\u001b[0m \u001b[0mpage_layout\u001b[0m \u001b[0;32min\u001b[0m \u001b[0mextract_pages\u001b[0m\u001b[0;34m(\u001b[0m\u001b[0mfile\u001b[0m\u001b[0;34m)\u001b[0m\u001b[0;34m:\u001b[0m\u001b[0;34m\u001b[0m\u001b[0;34m\u001b[0m\u001b[0m\n\u001b[1;32m      8\u001b[0m             \u001b[0;32mfor\u001b[0m \u001b[0melement\u001b[0m \u001b[0;32min\u001b[0m \u001b[0mpage_layout\u001b[0m\u001b[0;34m:\u001b[0m\u001b[0;34m\u001b[0m\u001b[0;34m\u001b[0m\u001b[0m\n",
            "\u001b[0;31mFileNotFoundError\u001b[0m: [Errno 2] No such file or directory: ''"
          ]
        }
      ]
    },
    {
      "cell_type": "code",
      "source": [
        "from pdfminer.high_level import extract_pages\n",
        "from pdfminer.layout import LTTextContainer, LTTextLine, LTChar\n",
        "\n",
        "def extract_text_and_styles(file_path):\n",
        "    with open(file_path, 'rb') as file:\n",
        "        for page_layout in extract_pages(file_path):\n",
        "            for element in page_layout:\n",
        "                if isinstance(element, LTTextContainer):\n",
        "                    for text_line in element:\n",
        "                        if isinstance(text_line, LTTextLine):\n",
        "                            for character in text_line:\n",
        "                                if isinstance(character, LTChar):\n",
        "                                    font_name = character.fontname\n",
        "                                    font_size = character.size\n",
        "                                    text = character.get_text()\n",
        "                                    print(f\"텍스트: {text}, 글꼴: {font_name}, 크기: {font_size}\")\n",
        "                                    # 여기에 추출된 정보를 저장하는 코드를 추가하세요\n"
      ],
      "metadata": {
        "id": "5_LhMCuSg24F"
      },
      "execution_count": null,
      "outputs": []
    },
    {
      "cell_type": "code",
      "source": [
        "# PDF 파일 경로 지정하여 정보 추출 함수 호출\n",
        "pdf_path = ''\n",
        "extract_text_and_styles(pdf_path)"
      ],
      "metadata": {
        "id": "vk7ttFjZhDKs"
      },
      "execution_count": null,
      "outputs": []
    },
    {
      "cell_type": "markdown",
      "source": [
        "- 페이지 숫자 : XPKSLC+DIN-Medium, 크기: 12.0\n",
        "\n",
        "- 본문 : XPKSLC+YDVYGOStd32, 크기: 11.0,\n",
        "\n",
        "  XPKSLC+YDVYGOStd32, 크기: 11.000000000000057\n",
        "\n",
        "- ▒ 소제목 : XPKSLC+YDVYGOStd34, 크기: 12.5\n",
        "\n",
        "- 『』박스 제목 : XPKSLC+YDVYGOStd33, 크기: 13.0\n",
        "\n",
        "-  상단 우측 머릿말 : XPKSLC+DIN-Bold, 크기: 9.0\n",
        "\n",
        "- 본문 : XPKSLC+YDVYGOStd34, 크기: 15.0"
      ],
      "metadata": {
        "id": "yDCM42guvos9"
      }
    },
    {
      "cell_type": "markdown",
      "source": [
        "# 레이아웃 추출하는 방법\n",
        "- 텍스트 원본이 아닌, 텍스트 양식에 대한 데이터를 담고 있음\n",
        "\n",
        "https://pdfminersix.readthedocs.io/en/latest/tutorial/extract_pages.html"
      ],
      "metadata": {
        "id": "4gn8yDMKp2Sf"
      }
    },
    {
      "cell_type": "code",
      "source": [
        "from pdfminer.high_level import extract_pages\n",
        "from pdfminer.layout import LTTextContainer, LTTextLine, LTChar\n",
        "\n",
        "def extract_sentences(file_path):\n",
        "    with open(file_path, 'rb') as file:\n",
        "        for page_layout in extract_pages(file_path):\n",
        "            for element in page_layout:\n",
        "                if isinstance(element, LTTextContainer):\n",
        "                    if isinstance(element, LTTextLine):\n",
        "                        for character in element:\n",
        "                            if isinstance(character, LTChar):\n",
        "                                print(character.fontname)\n",
        "                                print(character.size)\n"
      ],
      "metadata": {
        "id": "ElbiDJ12n5tI"
      },
      "execution_count": null,
      "outputs": []
    },
    {
      "cell_type": "code",
      "source": [
        "# PDF 파일 경로 지정하여 정보 추출 함수 호출\n",
        "pdf_path = '/content/drive/MyDrive/뮤레파 코리아/pdf 추출/남북건설뉴스_1호_KICT.pdf'\n",
        "extract_sentences(pdf_path)"
      ],
      "metadata": {
        "id": "KJ7sbQSNn8Or"
      },
      "execution_count": null,
      "outputs": []
    }
  ]
}