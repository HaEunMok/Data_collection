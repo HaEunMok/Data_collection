{
  "nbformat": 4,
  "nbformat_minor": 0,
  "metadata": {
    "colab": {
      "provenance": [],
      "authorship_tag": "ABX9TyPp3YAZ8snJQ70GmE0cpMDI",
      "include_colab_link": true
    },
    "kernelspec": {
      "name": "python3",
      "display_name": "Python 3"
    },
    "language_info": {
      "name": "python"
    }
  },
  "cells": [
    {
      "cell_type": "markdown",
      "metadata": {
        "id": "view-in-github",
        "colab_type": "text"
      },
      "source": [
        "<a href=\"https://colab.research.google.com/github/HaEunMok/Data_collection/blob/main/%5BPDF%5D_PDF%EC%97%90%EC%84%9C_%ED%91%9C_%EC%B6%94%EC%B6%9C%ED%95%98%EA%B8%B0.ipynb\" target=\"_parent\"><img src=\"https://colab.research.google.com/assets/colab-badge.svg\" alt=\"Open In Colab\"/></a>"
      ]
    },
    {
      "cell_type": "code",
      "execution_count": null,
      "metadata": {
        "id": "795OoSMxEcQg"
      },
      "outputs": [],
      "source": [
        "import tabula\n",
        "\n",
        "\n",
        "# PDF file to extract tables from\n",
        "file = \"\"\n",
        "\n",
        "tables =   tabula.read_pdf(file, pages='19')\n",
        "print(\"Total tables extracted:\", tables)"
      ]
    },
    {
      "cell_type": "code",
      "source": [
        "tables[0]"
      ],
      "metadata": {
        "id": "k9eE6DlZEnyZ"
      },
      "execution_count": null,
      "outputs": []
    }
  ]
}